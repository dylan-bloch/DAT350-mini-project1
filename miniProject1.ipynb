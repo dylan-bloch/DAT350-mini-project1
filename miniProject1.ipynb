{
 "cells": [
  {
   "cell_type": "markdown",
   "metadata": {},
   "source": [
    "Jupyter Notebook for mini project 1. This project gives data about the frequency that Berry students eat off campus. "
   ]
  },
  {
   "cell_type": "code",
   "execution_count": 45,
   "metadata": {},
   "outputs": [],
   "source": [
    "import csv\n",
    "import matplotlib.pyplot as plt"
   ]
  },
  {
   "cell_type": "code",
   "execution_count": 94,
   "metadata": {},
   "outputs": [
    {
     "name": "stdout",
     "output_type": "stream",
     "text": [
      "35\n"
     ]
    }
   ],
   "source": [
    "def totalEntries():\n",
    "    entries = 0\n",
    "    with open(\"miniProject.csv\") as csvFile:\n",
    "        openCSV = csv.reader(csvFile, delimiter = ',')\n",
    "\n",
    "        next(openCSV)\n",
    "        for i in openCSV:\n",
    "            entries += 1\n",
    "    return (entries)\n",
    "\n",
    "print(totalEntries())"
   ]
  },
  {
   "cell_type": "markdown",
   "metadata": {},
   "source": [
    "Total number of entries: 35"
   ]
  },
  {
   "cell_type": "code",
   "execution_count": 59,
   "metadata": {},
   "outputs": [
    {
     "name": "stdout",
     "output_type": "stream",
     "text": [
      "('54.0% Female', '46.0% Male')\n"
     ]
    }
   ],
   "source": [
    "def getGenderPercent():\n",
    "    female = 0\n",
    "    male = 0\n",
    "    with open(\"miniProject.csv\") as csvFile:\n",
    "        openCSV = csv.reader(csvFile, delimiter = ',')\n",
    "\n",
    "        next(openCSV)\n",
    "        for row in openCSV:\n",
    "            gender = row[2]\n",
    "            if gender == \"Female\":\n",
    "                female += 1\n",
    "            else:\n",
    "                male += 1\n",
    "        femalePercent = 100 * (round(female/totalEntries(), 2))\n",
    "        malePercent = 100 * (round(male/totalEntries(), 2))\n",
    "    return (f\"{femalePercent}% Female\", f\"{malePercent}% Male\")\n",
    "\n",
    "print(getGenderPercent())"
   ]
  },
  {
   "cell_type": "markdown",
   "metadata": {},
   "source": [
    "Percentages of male vs female: '54.0% Female', '46.0% Male'"
   ]
  },
  {
   "cell_type": "code",
   "execution_count": 87,
   "metadata": {},
   "outputs": [
    {
     "name": "stdout",
     "output_type": "stream",
     "text": [
      "{'senior': '20.0%', 'freshman': '11.0%', 'sophomore': '23.0%', 'junior': '46.0%'}\n"
     ]
    }
   ],
   "source": [
    "def getClassPercent():\n",
    "    classes = {}\n",
    "\n",
    "    with open(\"miniProject.csv\") as csvFile:\n",
    "            openCSV = csv.reader(csvFile, delimiter = ',')\n",
    "\n",
    "            next(openCSV)\n",
    "            for row in openCSV:\n",
    "                Class = row[4].lower().strip()\n",
    "                if Class not in classes:\n",
    "                    classes[Class] = 1\n",
    "                else:\n",
    "                    classes[Class] += 1\n",
    "            percentages = {}\n",
    "            \n",
    "            for Class, frequency in classes.items():\n",
    "                percentage = 100 * round((frequency / totalEntries()), 2) \n",
    "                percentages[Class] = f\"{percentage}%\"\n",
    "    return percentages\n",
    "\n",
    "print(getClassPercent())"
   ]
  },
  {
   "cell_type": "markdown",
   "metadata": {},
   "source": [
    "Percentages of each class surveyed: 'senior': '20.0%', 'freshman': '11.0%', 'sophomore': '23.0%', 'junior': '46.0%'"
   ]
  },
  {
   "cell_type": "code",
   "execution_count": 86,
   "metadata": {},
   "outputs": [
    {
     "name": "stdout",
     "output_type": "stream",
     "text": [
      "{'biology': '3.0%', 'finance and accounting': '3.0%', 'biochemistry': '6.0%', 'chemistry': '3.0%', 'exercise science': '14.000000000000002%', 'health sciences': '3.0%', 'creative technologies': '3.0%', 'psychology': '3.0%', 'elementary education': '6.0%', 'computer science and creative technologies': '3.0%', 'marketing': '3.0%', 'finance': '3.0%', 'sports': '3.0%', 'business': '3.0%', 'professional track physics, mathematics': '3.0%', 'political science': '3.0%', 'philosophy, env studies': '3.0%', 'animal science': '3.0%', 'c': '3.0%', 'communication': '3.0%', 'crt': '3.0%', 'sports leadership and strategy': '3.0%', 'green eggs and ham': '3.0%', 'international affairs and spanish': '3.0%', 'accounting & finance': '3.0%', 'economics': '3.0%', 'nursing': '3.0%', 'art': '3.0%', 'art education': '3.0%'}\n"
     ]
    }
   ],
   "source": [
    "def getMajorPercent():\n",
    "    majors = {}\n",
    "\n",
    "    with open(\"miniProject.csv\") as csvFile:\n",
    "        openCSV = csv.reader(csvFile, delimiter = ',')\n",
    "\n",
    "        next(openCSV)\n",
    "        for row in openCSV:\n",
    "            major = row[3].lower().strip()\n",
    "            if major not in majors:\n",
    "                majors[major] = 1\n",
    "            else:\n",
    "                majors[major] += 1\n",
    "                \n",
    "        percentages = {}\n",
    "        for major, frequency in majors.items():\n",
    "            percentage = 100 * round((frequency / totalEntries()), 2) \n",
    "            percentages[major] = f\"{percentage}%\"\n",
    "    return percentages\n",
    "        \n",
    "print(getMajorPercent())"
   ]
  },
  {
   "cell_type": "markdown",
   "metadata": {},
   "source": [
    "Percentages of each major that was surveyed: 'biology': '3.0%', 'finance and accounting': '3.0%', 'biochemistry': '6.0%', 'chemistry': '3.0%', 'exercise science': '14.000000000000002%', 'health sciences': '3.0%', 'creative technologies': '3.0%', 'psychology': '3.0%', 'elementary education': '6.0%', 'computer science and creative technologies': '3.0%', 'marketing': '3.0%', 'finance': '3.0%', 'sports': '3.0%', 'business': '3.0%', 'professional track physics, mathematics': '3.0%', 'political science': '3.0%', 'philosophy, env studies': '3.0%', 'animal science': '3.0%', 'c': '3.0%', 'communication': '3.0%', 'crt': '3.0%', 'sports leadership and strategy': '3.0%', 'green eggs and ham': '3.0%', 'international affairs and spanish': '3.0%', 'accounting & finance': '3.0%', 'economics': '3.0%', 'nursing': '3.0%', 'art': '3.0%', 'art education': '3.0%'"
   ]
  },
  {
   "cell_type": "code",
   "execution_count": 89,
   "metadata": {},
   "outputs": [
    {
     "name": "stdout",
     "output_type": "stream",
     "text": [
      "{'2 times a week': '26.0%', '5+ times a week': '14.000000000000002%', '1 time a week': '20.0%', '4 times a week': '11.0%', '3 times a week': '20.0%', '5 times a week': '9.0%'}\n"
     ]
    }
   ],
   "source": [
    "def getFrequencyOffCampus():\n",
    "    freq = {}\n",
    "\n",
    "    with open(\"miniProject.csv\") as csvFile:\n",
    "        openCSV = csv.reader(csvFile, delimiter = ',')\n",
    "\n",
    "        next(openCSV)\n",
    "        for row in openCSV:\n",
    "            answer = row[5].lower().strip()\n",
    "            if answer not in freq:\n",
    "                freq[answer] = 1\n",
    "            else:\n",
    "                freq[answer] += 1\n",
    "\n",
    "        percentages = {}\n",
    "        for answer, frequency in freq.items():\n",
    "            percentage = 100 * round((frequency / totalEntries()), 2) \n",
    "            percentages[answer] = f\"{percentage}%\"\n",
    "    return percentages\n",
    "\n",
    "print(getFrequencyOffCampus())"
   ]
  },
  {
   "cell_type": "markdown",
   "metadata": {},
   "source": [
    "Percentages of frequency students eat off campus: '2 times a week': '26.0%', '5+ times a week': '14.%', '1 time a week': '20.0%', '4 times a week': '11.0%', '3 times a week': '20.0%', '5 times a week': '9.0%'"
   ]
  },
  {
   "cell_type": "code",
   "execution_count": 92,
   "metadata": {},
   "outputs": [
    {
     "name": "stdout",
     "output_type": "stream",
     "text": [
      "{'dinner': '28.999999999999996%', 'breakfast;lunch;dinner': '3.0%', 'breakfast;lunch;dinner;later than 10pm': '6.0%', 'lunch;dinner': '20.0%', 'dinner;later than 10pm': '26.0%', 'breakfast;dinner': '9.0%', 'lunch;dinner;later than 10pm': '6.0%', 'lunch': '3.0%'}\n"
     ]
    }
   ],
   "source": [
    "def whenOffCampus():\n",
    "    freq = {}\n",
    "\n",
    "    with open(\"miniProject.csv\") as csvFile:\n",
    "        openCSV = csv.reader(csvFile, delimiter = ',')\n",
    "\n",
    "        next(openCSV)\n",
    "        for row in openCSV:\n",
    "            answer = row[7].lower().strip()\n",
    "            if answer not in freq:\n",
    "                freq[answer] = 1\n",
    "            else:\n",
    "                freq[answer] += 1\n",
    "\n",
    "        percentages = {}\n",
    "        for answer, frequency in freq.items():\n",
    "            percentage = 100 * round((frequency / totalEntries()), 2) \n",
    "            percentages[answer] = f\"{percentage}%\"\n",
    "    return percentages\n",
    "\n",
    "print(whenOffCampus())"
   ]
  },
  {
   "cell_type": "markdown",
   "metadata": {},
   "source": [
    "Percentages of when people go off campus: 'dinner': '28.99%', 'breakfast;lunch;dinner': '3.0%', 'breakfast;lunch;dinner;later than 10pm': '6.0%', 'lunch;dinner': '20.0%', 'dinner;later than 10pm': '26.0%', 'breakfast;dinner': '9.0%', 'lunch;dinner;later than 10pm': '6.0%', 'lunch': '3.0%'"
   ]
  },
  {
   "cell_type": "code",
   "execution_count": 90,
   "metadata": {},
   "outputs": [
    {
     "name": "stdout",
     "output_type": "stream",
     "text": [
      "{'soho': '28.999999999999996%', 'chipotle': '14.000000000000002%', 'panera': '3.0%', \"wendy's\": '3.0%', 'cookout': '6.0%', 'dos bros': '6.0%', 'taco bell': '9.0%', 'mellow mushroom': '3.0%', 'starbucks & lumina & las palmas': '3.0%', 'anything': '3.0%', 'dos bros‼️🔥': '3.0%', \"mcdonald's\": '9.0%', 'chick fil a': '3.0%', 'jerusalem grill': '3.0%', 'ru sans': '3.0%', 'pub subs and sushi': '3.0%'}\n"
     ]
    }
   ],
   "source": [
    "def getWhereToEat():\n",
    "    freq = {}\n",
    "\n",
    "    with open(\"miniProject.csv\") as csvFile:\n",
    "        openCSV = csv.reader(csvFile, delimiter = ',')\n",
    "\n",
    "        next(openCSV)\n",
    "        for row in openCSV:\n",
    "            answer = row[9].lower().strip()\n",
    "            if answer not in freq:\n",
    "                freq[answer] = 1\n",
    "            else:\n",
    "                freq[answer] += 1\n",
    "\n",
    "        percentages = {}\n",
    "        for answer, frequency in freq.items():\n",
    "            percentage = 100 * round((frequency / totalEntries()), 2) \n",
    "            percentages[answer] = f\"{percentage}%\"\n",
    "    return percentages\n",
    "\n",
    "print(getWhereToEat())"
   ]
  },
  {
   "cell_type": "markdown",
   "metadata": {},
   "source": [
    "Percentages of responses of favorite places to go off campus to eat: 'soho': '28.99%', 'chipotle': '14.00%', 'panera': '3.0%', \"wendy's\": '3.0%', 'cookout': '6.0%', 'dos bros': '6.0%', 'taco bell': '9.0%', 'mellow mushroom': '3.0%', 'starbucks & lumina & las palmas': '3.0%', 'anything': '3.0%', 'dos bros‼️🔥': '3.0%', \"mcdonald's\": '9.0%', 'chick fil a': '3.0%', 'jerusalem grill': '3.0%', 'ru sans': '3.0%', 'pub subs and sushi': '3.0%'"
   ]
  },
  {
   "cell_type": "code",
   "execution_count": 93,
   "metadata": {},
   "outputs": [
    {
     "name": "stdout",
     "output_type": "stream",
     "text": [
      "{\"on campus dining sucks;i don't have any meal swipes\": '6.0%', 'on campus dining sucks;i just got money like that': '9.0%', 'on campus dining sucks': '28.999999999999996%', 'celebrations/events': '9.0%', \"i don't have any meal swipes\": '6.0%', 'i just got money like that': '9.0%', 'on campus dining sucks;celebrations/events': '26.0%', \"on campus dining sucks;celebrations/events;i just got money like that;i don't have any meal swipes\": '3.0%', 'on campus dining sucks;celebrations/events;i just got money like that': '3.0%', '': '3.0%'}\n"
     ]
    }
   ],
   "source": [
    "def getWhyGoOutFreq():\n",
    "    freq = {}\n",
    "\n",
    "    with open(\"miniProject.csv\") as csvFile:\n",
    "        openCSV = csv.reader(csvFile, delimiter = ',')\n",
    "\n",
    "        next(openCSV)\n",
    "        for row in openCSV:\n",
    "            answer = row[6].lower().strip()\n",
    "            if answer not in freq:\n",
    "                freq[answer] = 1\n",
    "            else:\n",
    "                freq[answer] += 1\n",
    "\n",
    "        percentages = {}\n",
    "        for answer, frequency in freq.items():\n",
    "            percentage = 100 * round((frequency / totalEntries()), 2) \n",
    "            percentages[answer] = f\"{percentage}%\"\n",
    "    return percentages\n",
    "\n",
    "print(getWhyGoOutFreq())\n"
   ]
  },
  {
   "cell_type": "markdown",
   "metadata": {},
   "source": [
    "Percentages of responses as to why students go out to eat: \"on campus dining sucks;i don't have any meal swipes\": '6.0%', 'on campus dining sucks;i just got money like that': '9.0%', 'on campus dining sucks': '28.99%', 'celebrations/events': '9.0%', \"i don't have any meal swipes\": '6.0%', 'i just got money like that': '9.0%', 'on campus dining sucks;celebrations/events': '26.0%', \"on campus dining sucks;celebrations/events;i just got money like that;i don't have any meal swipes\": '3.0%', 'on campus dining sucks;celebrations/events;i just got money like that': '3.0%', '': '3.0%'"
   ]
  },
  {
   "cell_type": "code",
   "execution_count": 95,
   "metadata": {},
   "outputs": [
    {
     "name": "stdout",
     "output_type": "stream",
     "text": [
      "{'i just love it': '23.0%', 'good food;close by': '3.0%', 'good food;close by;i just love it': '9.0%', 'good food;cheap;i just love it': '3.0%', 'i just love it;it’s so bussy in my tummy': '3.0%', 'good food;close by;cheap;i just love it': '14.000000000000002%', 'good food;cheap': '11.0%', 'good food;i just love it': '9.0%', 'close by;cheap;i just love it': '6.0%', 'good food': '11.0%', 'cheap;i just love it': '3.0%', 'cheap': '3.0%', 'good food;close by;cheap;i just love it;dhall is not appealing to my tastebuds or stomach. i have eaten 3 actual full meals there this semester. each time i feel horrible afterwards… eating is not an enjoyable experience in dhall.': '3.0%'}\n"
     ]
    }
   ],
   "source": [
    "def getWhyGoOutThere():\n",
    "    freq = {}\n",
    "\n",
    "    with open(\"miniProject.csv\") as csvFile:\n",
    "        openCSV = csv.reader(csvFile, delimiter = ',')\n",
    "\n",
    "        next(openCSV)\n",
    "        for row in openCSV:\n",
    "            answer = row[10].lower().strip()\n",
    "            if answer not in freq:\n",
    "                freq[answer] = 1\n",
    "            else:\n",
    "                freq[answer] += 1\n",
    "\n",
    "        percentages = {}\n",
    "        for answer, frequency in freq.items():\n",
    "            percentage = 100 * round((frequency / totalEntries()), 2) \n",
    "            percentages[answer] = f\"{percentage}%\"\n",
    "    return percentages\n",
    "\n",
    "print(getWhyGoOutThere())"
   ]
  },
  {
   "cell_type": "markdown",
   "metadata": {},
   "source": [
    "Percentages of responses as to why they like the places they go out to eat over on campus dining: 'i just love it': '23.0%', 'good food;close by': '3.0%', 'good food;close by;i just love it': '9.0%', 'good food;cheap;i just love it': '3.0%', 'i just love it;it’s so bussy in my tummy': '3.0%', 'good food;close by;cheap;i just love it': '14.00%', 'good food;cheap': '11.0%', 'good food;i just love it': '9.0%', 'close by;cheap;i just love it': '6.0%', 'good food': '11.0%', 'cheap;i just love it': '3.0%', 'cheap': '3.0%', 'good food;close by;cheap;i just love it;dhall is not appealing to my tastebuds or stomach. i have eaten 3 actual full meals there this semester. each time i feel horrible afterwards… eating is not an enjoyable experience in dhall.': '3.0%'"
   ]
  },
  {
   "cell_type": "code",
   "execution_count": 97,
   "metadata": {},
   "outputs": [
    {
     "name": "stdout",
     "output_type": "stream",
     "text": [
      "{\"on campus food at this time isn't what i'm looking for\": '37.0%', 'everything on campus is closed': '3.0%', \"i'm already off campus\": '6.0%', \"everything on campus is closed;on campus food at this time isn't what i'm looking for\": '28.999999999999996%', \"everything on campus is closed;i'm already off campus\": '6.0%', \"everything on campus is closed;in between when they are serving real meals;on campus food at this time isn't what i'm looking for\": '3.0%', \"in between when they are serving real meals;on campus food at this time isn't what i'm looking for\": '6.0%', \"everything on campus is closed;i'm already off campus;on campus food at this time isn't what i'm looking for\": '3.0%', \"in between when they are serving real meals;i'm already off campus;on campus food at this time isn't what i'm looking for\": '3.0%', \"i'm already off campus;on campus food at this time isn't what i'm looking for\": '3.0%', \"in between when they are serving real meals;i'm already off campus\": '3.0%'}\n"
     ]
    }
   ],
   "source": [
    "def getWhyGoOutThen():\n",
    "    freq = {}\n",
    "\n",
    "    with open(\"miniProject.csv\") as csvFile:\n",
    "        openCSV = csv.reader(csvFile, delimiter = ',')\n",
    "\n",
    "        next(openCSV)\n",
    "        for row in openCSV:\n",
    "            answer = row[8].lower().strip()\n",
    "            if answer not in freq:\n",
    "                freq[answer] = 1\n",
    "            else:\n",
    "                freq[answer] += 1\n",
    "\n",
    "        percentages = {}\n",
    "        for answer, frequency in freq.items():\n",
    "            percentage = 100 * round((frequency / totalEntries()), 2) \n",
    "            percentages[answer] = f\"{percentage}%\"\n",
    "    return percentages\n",
    "\n",
    "print(getWhyGoOutThen())"
   ]
  },
  {
   "cell_type": "markdown",
   "metadata": {},
   "source": [
    "Percentages of responses as to why they go out when they do: \"on campus food at this time isn't what i'm looking for\": '37.0%', 'everything on campus is closed': '3.0%', \"i'm already off campus\": '6.0%', \"everything on campus is closed;on campus food at this time isn't what i'm looking for\": '28.99%', \"everything on campus is closed;i'm already off campus\": '6.0%', \"everything on campus is closed;in between when they are serving real meals;on campus food at this time isn't what i'm looking for\": '3.0%', \"in between when they are serving real meals;on campus food at this time isn't what i'm looking for\": '6.0%', \"everything on campus is closed;i'm already off campus;on campus food at this time isn't what i'm looking for\": '3.0%', \"in between when they are serving real meals;i'm already off campus;on campus food at this time isn't what i'm looking for\": '3.0%', \"i'm already off campus;on campus food at this time isn't what i'm looking for\": '3.0%', \"in between when they are serving real meals;i'm already off campus\": '3.0%'"
   ]
  }
 ],
 "metadata": {
  "kernelspec": {
   "display_name": "base",
   "language": "python",
   "name": "python3"
  },
  "language_info": {
   "codemirror_mode": {
    "name": "ipython",
    "version": 3
   },
   "file_extension": ".py",
   "mimetype": "text/x-python",
   "name": "python",
   "nbconvert_exporter": "python",
   "pygments_lexer": "ipython3",
   "version": "3.11.5"
  }
 },
 "nbformat": 4,
 "nbformat_minor": 2
}
